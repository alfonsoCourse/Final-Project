{
 "cells": [
  {
   "cell_type": "markdown",
   "id": "d57481c7",
   "metadata": {},
   "source": [
    "# Structure"
   ]
  },
  {
   "cell_type": "code",
   "execution_count": 1,
   "id": "eb2603c3",
   "metadata": {},
   "outputs": [],
   "source": [
    "import pandas as pd\n",
    "import yfinance as yh\n",
    "import numpy as np\n",
    "import matplotlib.pyplot as plt\n",
    "plt.style.use(\"seaborn\")\n",
    "Year = 252 # trading days on a year"
   ]
  },
  {
   "cell_type": "code",
   "execution_count": 2,
   "id": "e7ec8b30",
   "metadata": {},
   "outputs": [],
   "source": [
    "# Download and save GBPEUR,"
   ]
  },
  {
   "cell_type": "code",
   "execution_count": 3,
   "id": "7d011300",
   "metadata": {},
   "outputs": [
    {
     "name": "stdout",
     "output_type": "stream",
     "text": [
      "[*********************100%***********************]  1 of 1 completed\n"
     ]
    }
   ],
   "source": [
    "data=yh.download(\"GBPEUR=X\",start = \"2012-01-01\",end = \"2022-01-02\")"
   ]
  },
  {
   "cell_type": "code",
   "execution_count": 4,
   "id": "662abf54",
   "metadata": {},
   "outputs": [
    {
     "data": {
      "text/html": [
       "<div>\n",
       "<style scoped>\n",
       "    .dataframe tbody tr th:only-of-type {\n",
       "        vertical-align: middle;\n",
       "    }\n",
       "\n",
       "    .dataframe tbody tr th {\n",
       "        vertical-align: top;\n",
       "    }\n",
       "\n",
       "    .dataframe thead th {\n",
       "        text-align: right;\n",
       "    }\n",
       "</style>\n",
       "<table border=\"1\" class=\"dataframe\">\n",
       "  <thead>\n",
       "    <tr style=\"text-align: right;\">\n",
       "      <th></th>\n",
       "      <th>Open</th>\n",
       "      <th>High</th>\n",
       "      <th>Low</th>\n",
       "      <th>Close</th>\n",
       "      <th>Adj Close</th>\n",
       "      <th>Volume</th>\n",
       "    </tr>\n",
       "    <tr>\n",
       "      <th>Date</th>\n",
       "      <th></th>\n",
       "      <th></th>\n",
       "      <th></th>\n",
       "      <th></th>\n",
       "      <th></th>\n",
       "      <th></th>\n",
       "    </tr>\n",
       "  </thead>\n",
       "  <tbody>\n",
       "    <tr>\n",
       "      <th>2012-01-02</th>\n",
       "      <td>1.19740</td>\n",
       "      <td>1.19950</td>\n",
       "      <td>1.19610</td>\n",
       "      <td>1.19740</td>\n",
       "      <td>1.19740</td>\n",
       "      <td>0</td>\n",
       "    </tr>\n",
       "    <tr>\n",
       "      <th>2012-01-03</th>\n",
       "      <td>1.19920</td>\n",
       "      <td>1.19980</td>\n",
       "      <td>1.19430</td>\n",
       "      <td>1.19910</td>\n",
       "      <td>1.19910</td>\n",
       "      <td>0</td>\n",
       "    </tr>\n",
       "    <tr>\n",
       "      <th>2012-01-04</th>\n",
       "      <td>1.19820</td>\n",
       "      <td>1.20960</td>\n",
       "      <td>1.19780</td>\n",
       "      <td>1.19820</td>\n",
       "      <td>1.19820</td>\n",
       "      <td>0</td>\n",
       "    </tr>\n",
       "    <tr>\n",
       "      <th>2012-01-05</th>\n",
       "      <td>1.20690</td>\n",
       "      <td>1.21100</td>\n",
       "      <td>1.20630</td>\n",
       "      <td>1.20670</td>\n",
       "      <td>1.20670</td>\n",
       "      <td>0</td>\n",
       "    </tr>\n",
       "    <tr>\n",
       "      <th>2012-01-06</th>\n",
       "      <td>1.21130</td>\n",
       "      <td>1.21330</td>\n",
       "      <td>1.20960</td>\n",
       "      <td>1.21130</td>\n",
       "      <td>1.21130</td>\n",
       "      <td>0</td>\n",
       "    </tr>\n",
       "    <tr>\n",
       "      <th>...</th>\n",
       "      <td>...</td>\n",
       "      <td>...</td>\n",
       "      <td>...</td>\n",
       "      <td>...</td>\n",
       "      <td>...</td>\n",
       "      <td>...</td>\n",
       "    </tr>\n",
       "    <tr>\n",
       "      <th>2021-12-27</th>\n",
       "      <td>1.18351</td>\n",
       "      <td>1.18693</td>\n",
       "      <td>1.18230</td>\n",
       "      <td>1.18344</td>\n",
       "      <td>1.18344</td>\n",
       "      <td>0</td>\n",
       "    </tr>\n",
       "    <tr>\n",
       "      <th>2021-12-28</th>\n",
       "      <td>1.18620</td>\n",
       "      <td>1.18998</td>\n",
       "      <td>1.18540</td>\n",
       "      <td>1.18629</td>\n",
       "      <td>1.18629</td>\n",
       "      <td>0</td>\n",
       "    </tr>\n",
       "    <tr>\n",
       "      <th>2021-12-29</th>\n",
       "      <td>1.18730</td>\n",
       "      <td>1.18995</td>\n",
       "      <td>1.18700</td>\n",
       "      <td>1.18710</td>\n",
       "      <td>1.18710</td>\n",
       "      <td>0</td>\n",
       "    </tr>\n",
       "    <tr>\n",
       "      <th>2021-12-30</th>\n",
       "      <td>1.18814</td>\n",
       "      <td>1.19332</td>\n",
       "      <td>1.18814</td>\n",
       "      <td>1.18804</td>\n",
       "      <td>1.18804</td>\n",
       "      <td>0</td>\n",
       "    </tr>\n",
       "    <tr>\n",
       "      <th>2021-12-31</th>\n",
       "      <td>1.19160</td>\n",
       "      <td>1.19489</td>\n",
       "      <td>1.18906</td>\n",
       "      <td>1.19180</td>\n",
       "      <td>1.19180</td>\n",
       "      <td>0</td>\n",
       "    </tr>\n",
       "  </tbody>\n",
       "</table>\n",
       "<p>2608 rows × 6 columns</p>\n",
       "</div>"
      ],
      "text/plain": [
       "               Open     High      Low    Close  Adj Close  Volume\n",
       "Date                                                             \n",
       "2012-01-02  1.19740  1.19950  1.19610  1.19740    1.19740       0\n",
       "2012-01-03  1.19920  1.19980  1.19430  1.19910    1.19910       0\n",
       "2012-01-04  1.19820  1.20960  1.19780  1.19820    1.19820       0\n",
       "2012-01-05  1.20690  1.21100  1.20630  1.20670    1.20670       0\n",
       "2012-01-06  1.21130  1.21330  1.20960  1.21130    1.21130       0\n",
       "...             ...      ...      ...      ...        ...     ...\n",
       "2021-12-27  1.18351  1.18693  1.18230  1.18344    1.18344       0\n",
       "2021-12-28  1.18620  1.18998  1.18540  1.18629    1.18629       0\n",
       "2021-12-29  1.18730  1.18995  1.18700  1.18710    1.18710       0\n",
       "2021-12-30  1.18814  1.19332  1.18814  1.18804    1.18804       0\n",
       "2021-12-31  1.19160  1.19489  1.18906  1.19180    1.19180       0\n",
       "\n",
       "[2608 rows x 6 columns]"
      ]
     },
     "execution_count": 4,
     "metadata": {},
     "output_type": "execute_result"
    }
   ],
   "source": [
    "data"
   ]
  },
  {
   "cell_type": "code",
   "execution_count": 5,
   "id": "8f643fa3",
   "metadata": {},
   "outputs": [],
   "source": [
    "df=data[[\"Close\"]]"
   ]
  },
  {
   "cell_type": "code",
   "execution_count": 6,
   "id": "6455919c",
   "metadata": {},
   "outputs": [],
   "source": [
    "df.to_csv(\"GBPEUR=X.cvs\")"
   ]
  },
  {
   "cell_type": "code",
   "execution_count": 7,
   "id": "4d25bf14",
   "metadata": {},
   "outputs": [],
   "source": [
    "df = pd.read_csv(\"GBPEUR=X.cvs\", parse_dates=[\"Date\"], index_col= \"Date\")"
   ]
  },
  {
   "cell_type": "code",
   "execution_count": 8,
   "id": "1e21a8e5",
   "metadata": {},
   "outputs": [
    {
     "data": {
      "text/html": [
       "<div>\n",
       "<style scoped>\n",
       "    .dataframe tbody tr th:only-of-type {\n",
       "        vertical-align: middle;\n",
       "    }\n",
       "\n",
       "    .dataframe tbody tr th {\n",
       "        vertical-align: top;\n",
       "    }\n",
       "\n",
       "    .dataframe thead th {\n",
       "        text-align: right;\n",
       "    }\n",
       "</style>\n",
       "<table border=\"1\" class=\"dataframe\">\n",
       "  <thead>\n",
       "    <tr style=\"text-align: right;\">\n",
       "      <th></th>\n",
       "      <th>Close</th>\n",
       "    </tr>\n",
       "    <tr>\n",
       "      <th>Date</th>\n",
       "      <th></th>\n",
       "    </tr>\n",
       "  </thead>\n",
       "  <tbody>\n",
       "    <tr>\n",
       "      <th>2012-01-02</th>\n",
       "      <td>1.19740</td>\n",
       "    </tr>\n",
       "    <tr>\n",
       "      <th>2012-01-03</th>\n",
       "      <td>1.19910</td>\n",
       "    </tr>\n",
       "    <tr>\n",
       "      <th>2012-01-04</th>\n",
       "      <td>1.19820</td>\n",
       "    </tr>\n",
       "    <tr>\n",
       "      <th>2012-01-05</th>\n",
       "      <td>1.20670</td>\n",
       "    </tr>\n",
       "    <tr>\n",
       "      <th>2012-01-06</th>\n",
       "      <td>1.21130</td>\n",
       "    </tr>\n",
       "    <tr>\n",
       "      <th>...</th>\n",
       "      <td>...</td>\n",
       "    </tr>\n",
       "    <tr>\n",
       "      <th>2021-12-27</th>\n",
       "      <td>1.18344</td>\n",
       "    </tr>\n",
       "    <tr>\n",
       "      <th>2021-12-28</th>\n",
       "      <td>1.18629</td>\n",
       "    </tr>\n",
       "    <tr>\n",
       "      <th>2021-12-29</th>\n",
       "      <td>1.18710</td>\n",
       "    </tr>\n",
       "    <tr>\n",
       "      <th>2021-12-30</th>\n",
       "      <td>1.18804</td>\n",
       "    </tr>\n",
       "    <tr>\n",
       "      <th>2021-12-31</th>\n",
       "      <td>1.19180</td>\n",
       "    </tr>\n",
       "  </tbody>\n",
       "</table>\n",
       "<p>2608 rows × 1 columns</p>\n",
       "</div>"
      ],
      "text/plain": [
       "              Close\n",
       "Date               \n",
       "2012-01-02  1.19740\n",
       "2012-01-03  1.19910\n",
       "2012-01-04  1.19820\n",
       "2012-01-05  1.20670\n",
       "2012-01-06  1.21130\n",
       "...             ...\n",
       "2021-12-27  1.18344\n",
       "2021-12-28  1.18629\n",
       "2021-12-29  1.18710\n",
       "2021-12-30  1.18804\n",
       "2021-12-31  1.19180\n",
       "\n",
       "[2608 rows x 1 columns]"
      ]
     },
     "execution_count": 8,
     "metadata": {},
     "output_type": "execute_result"
    }
   ],
   "source": [
    "df"
   ]
  },
  {
   "cell_type": "code",
   "execution_count": 9,
   "id": "d16bf6f3",
   "metadata": {},
   "outputs": [
    {
     "data": {
      "image/png": "[encoded data removed]",
      "text/plain": [
       "<Figure size 864x576 with 1 Axes>"
      ]
     },
     "metadata": {},
     "output_type": "display_data"
    }
   ],
   "source": [
    "df.plot(figsize = (12,8), title =\"GBP/EUR\", fontsize = 12)\n",
    "plt.show()"
   ]
  },
  {
   "cell_type": "code",
   "execution_count": 10,
   "id": "3d825926",
   "metadata": {},
   "outputs": [
    {
     "name": "stdout",
     "output_type": "stream",
     "text": [
      "<class 'pandas.core.frame.DataFrame'>\n",
      "DatetimeIndex: 2608 entries, 2012-01-02 to 2021-12-31\n",
      "Data columns (total 1 columns):\n",
      " #   Column  Non-Null Count  Dtype  \n",
      "---  ------  --------------  -----  \n",
      " 0   Close   2608 non-null   float64\n",
      "dtypes: float64(1)\n",
      "memory usage: 40.8 KB\n"
     ]
    }
   ],
   "source": [
    "df.info()"
   ]
  },
  {
   "cell_type": "code",
   "execution_count": 11,
   "id": "60234a82",
   "metadata": {
    "scrolled": true
   },
   "outputs": [],
   "source": [
    "df[\"Returns\"]= np.log(df.div(df.shift(1)))"
   ]
  },
  {
   "cell_type": "code",
   "execution_count": 12,
   "id": "e5123ebf",
   "metadata": {},
   "outputs": [
    {
     "data": {
      "text/html": [
       "<div>\n",
       "<style scoped>\n",
       "    .dataframe tbody tr th:only-of-type {\n",
       "        vertical-align: middle;\n",
       "    }\n",
       "\n",
       "    .dataframe tbody tr th {\n",
       "        vertical-align: top;\n",
       "    }\n",
       "\n",
       "    .dataframe thead th {\n",
       "        text-align: right;\n",
       "    }\n",
       "</style>\n",
       "<table border=\"1\" class=\"dataframe\">\n",
       "  <thead>\n",
       "    <tr style=\"text-align: right;\">\n",
       "      <th></th>\n",
       "      <th>Close</th>\n",
       "      <th>Returns</th>\n",
       "    </tr>\n",
       "    <tr>\n",
       "      <th>Date</th>\n",
       "      <th></th>\n",
       "      <th></th>\n",
       "    </tr>\n",
       "  </thead>\n",
       "  <tbody>\n",
       "    <tr>\n",
       "      <th>2012-01-02</th>\n",
       "      <td>1.19740</td>\n",
       "      <td>NaN</td>\n",
       "    </tr>\n",
       "    <tr>\n",
       "      <th>2012-01-03</th>\n",
       "      <td>1.19910</td>\n",
       "      <td>0.001419</td>\n",
       "    </tr>\n",
       "    <tr>\n",
       "      <th>2012-01-04</th>\n",
       "      <td>1.19820</td>\n",
       "      <td>-0.000751</td>\n",
       "    </tr>\n",
       "    <tr>\n",
       "      <th>2012-01-05</th>\n",
       "      <td>1.20670</td>\n",
       "      <td>0.007069</td>\n",
       "    </tr>\n",
       "    <tr>\n",
       "      <th>2012-01-06</th>\n",
       "      <td>1.21130</td>\n",
       "      <td>0.003805</td>\n",
       "    </tr>\n",
       "    <tr>\n",
       "      <th>...</th>\n",
       "      <td>...</td>\n",
       "      <td>...</td>\n",
       "    </tr>\n",
       "    <tr>\n",
       "      <th>2021-12-27</th>\n",
       "      <td>1.18344</td>\n",
       "      <td>0.000034</td>\n",
       "    </tr>\n",
       "    <tr>\n",
       "      <th>2021-12-28</th>\n",
       "      <td>1.18629</td>\n",
       "      <td>0.002405</td>\n",
       "    </tr>\n",
       "    <tr>\n",
       "      <th>2021-12-29</th>\n",
       "      <td>1.18710</td>\n",
       "      <td>0.000683</td>\n",
       "    </tr>\n",
       "    <tr>\n",
       "      <th>2021-12-30</th>\n",
       "      <td>1.18804</td>\n",
       "      <td>0.000792</td>\n",
       "    </tr>\n",
       "    <tr>\n",
       "      <th>2021-12-31</th>\n",
       "      <td>1.19180</td>\n",
       "      <td>0.003160</td>\n",
       "    </tr>\n",
       "  </tbody>\n",
       "</table>\n",
       "<p>2608 rows × 2 columns</p>\n",
       "</div>"
      ],
      "text/plain": [
       "              Close   Returns\n",
       "Date                         \n",
       "2012-01-02  1.19740       NaN\n",
       "2012-01-03  1.19910  0.001419\n",
       "2012-01-04  1.19820 -0.000751\n",
       "2012-01-05  1.20670  0.007069\n",
       "2012-01-06  1.21130  0.003805\n",
       "...             ...       ...\n",
       "2021-12-27  1.18344  0.000034\n",
       "2021-12-28  1.18629  0.002405\n",
       "2021-12-29  1.18710  0.000683\n",
       "2021-12-30  1.18804  0.000792\n",
       "2021-12-31  1.19180  0.003160\n",
       "\n",
       "[2608 rows x 2 columns]"
      ]
     },
     "execution_count": 12,
     "metadata": {},
     "output_type": "execute_result"
    }
   ],
   "source": [
    "df"
   ]
  },
  {
   "cell_type": "markdown",
   "id": "6b78498d",
   "metadata": {},
   "source": [
    "# Buy and Hold\n",
    "buy it and sell it after, to test different types of graph"
   ]
  },
  {
   "cell_type": "code",
   "execution_count": 13,
   "id": "65046ae6",
   "metadata": {},
   "outputs": [
    {
     "data": {
      "text/html": [
       "<div>\n",
       "<style scoped>\n",
       "    .dataframe tbody tr th:only-of-type {\n",
       "        vertical-align: middle;\n",
       "    }\n",
       "\n",
       "    .dataframe tbody tr th {\n",
       "        vertical-align: top;\n",
       "    }\n",
       "\n",
       "    .dataframe thead th {\n",
       "        text-align: right;\n",
       "    }\n",
       "</style>\n",
       "<table border=\"1\" class=\"dataframe\">\n",
       "  <thead>\n",
       "    <tr style=\"text-align: right;\">\n",
       "      <th></th>\n",
       "      <th>Close</th>\n",
       "      <th>Returns</th>\n",
       "    </tr>\n",
       "    <tr>\n",
       "      <th>Date</th>\n",
       "      <th></th>\n",
       "      <th></th>\n",
       "    </tr>\n",
       "  </thead>\n",
       "  <tbody>\n",
       "    <tr>\n",
       "      <th>2012-01-03</th>\n",
       "      <td>1.19910</td>\n",
       "      <td>0.001419</td>\n",
       "    </tr>\n",
       "    <tr>\n",
       "      <th>2012-01-04</th>\n",
       "      <td>1.19820</td>\n",
       "      <td>-0.000751</td>\n",
       "    </tr>\n",
       "    <tr>\n",
       "      <th>2012-01-05</th>\n",
       "      <td>1.20670</td>\n",
       "      <td>0.007069</td>\n",
       "    </tr>\n",
       "    <tr>\n",
       "      <th>2012-01-06</th>\n",
       "      <td>1.21130</td>\n",
       "      <td>0.003805</td>\n",
       "    </tr>\n",
       "    <tr>\n",
       "      <th>2012-01-09</th>\n",
       "      <td>1.21570</td>\n",
       "      <td>0.003626</td>\n",
       "    </tr>\n",
       "    <tr>\n",
       "      <th>...</th>\n",
       "      <td>...</td>\n",
       "      <td>...</td>\n",
       "    </tr>\n",
       "    <tr>\n",
       "      <th>2021-12-27</th>\n",
       "      <td>1.18344</td>\n",
       "      <td>0.000034</td>\n",
       "    </tr>\n",
       "    <tr>\n",
       "      <th>2021-12-28</th>\n",
       "      <td>1.18629</td>\n",
       "      <td>0.002405</td>\n",
       "    </tr>\n",
       "    <tr>\n",
       "      <th>2021-12-29</th>\n",
       "      <td>1.18710</td>\n",
       "      <td>0.000683</td>\n",
       "    </tr>\n",
       "    <tr>\n",
       "      <th>2021-12-30</th>\n",
       "      <td>1.18804</td>\n",
       "      <td>0.000792</td>\n",
       "    </tr>\n",
       "    <tr>\n",
       "      <th>2021-12-31</th>\n",
       "      <td>1.19180</td>\n",
       "      <td>0.003160</td>\n",
       "    </tr>\n",
       "  </tbody>\n",
       "</table>\n",
       "<p>2607 rows × 2 columns</p>\n",
       "</div>"
      ],
      "text/plain": [
       "              Close   Returns\n",
       "Date                         \n",
       "2012-01-03  1.19910  0.001419\n",
       "2012-01-04  1.19820 -0.000751\n",
       "2012-01-05  1.20670  0.007069\n",
       "2012-01-06  1.21130  0.003805\n",
       "2012-01-09  1.21570  0.003626\n",
       "...             ...       ...\n",
       "2021-12-27  1.18344  0.000034\n",
       "2021-12-28  1.18629  0.002405\n",
       "2021-12-29  1.18710  0.000683\n",
       "2021-12-30  1.18804  0.000792\n",
       "2021-12-31  1.19180  0.003160\n",
       "\n",
       "[2607 rows x 2 columns]"
      ]
     },
     "execution_count": 13,
     "metadata": {},
     "output_type": "execute_result"
    }
   ],
   "source": [
    "df.dropna(inplace= True)\n",
    "df"
   ]
  },
  {
   "cell_type": "code",
   "execution_count": 14,
   "id": "98591353",
   "metadata": {},
   "outputs": [
    {
     "data": {
      "text/plain": [
       "Text(0.5, 1.0, 'GBP / EUR returns')"
      ]
     },
     "execution_count": 14,
     "metadata": {},
     "output_type": "execute_result"
    },
    {
     "data": {
      "image/png": "[encoded data removed]",
      "text/plain": [
       "<Figure size 864x576 with 1 Axes>"
      ]
     },
     "metadata": {},
     "output_type": "display_data"
    }
   ],
   "source": [
    "#Creating a histogram\n",
    "df.Returns.hist(bins=100, figsize= (12,8))\n",
    "plt.title(\"GBP / EUR returns\")"
   ]
  },
  {
   "cell_type": "code",
   "execution_count": 15,
   "id": "2958eb83",
   "metadata": {},
   "outputs": [
    {
     "data": {
      "text/plain": [
       "-0.004687749795877633"
      ]
     },
     "execution_count": 15,
     "metadata": {},
     "output_type": "execute_result"
    }
   ],
   "source": [
    "df.Returns.sum()"
   ]
  },
  {
   "cell_type": "code",
   "execution_count": 16,
   "id": "5c19d6a0",
   "metadata": {},
   "outputs": [
    {
     "data": {
      "text/plain": [
       "0.9953232205544166"
      ]
     },
     "execution_count": 16,
     "metadata": {},
     "output_type": "execute_result"
    }
   ],
   "source": [
    "np.exp(df.Returns.sum())# final value if creater than 1 it creates a benefit"
   ]
  },
  {
   "cell_type": "code",
   "execution_count": 17,
   "id": "af8f42f8",
   "metadata": {},
   "outputs": [
    {
     "data": {
      "text/plain": [
       "Date\n",
       "2012-01-03    0.001419\n",
       "2012-01-04    0.000668\n",
       "2012-01-05    0.007737\n",
       "2012-01-06    0.011542\n",
       "2012-01-09    0.015168\n",
       "                ...   \n",
       "2021-12-27   -0.011727\n",
       "2021-12-28   -0.009322\n",
       "2021-12-29   -0.008639\n",
       "2021-12-30   -0.007848\n",
       "2021-12-31   -0.004688\n",
       "Name: Returns, Length: 2607, dtype: float64"
      ]
     },
     "execution_count": 17,
     "metadata": {},
     "output_type": "execute_result"
    }
   ],
   "source": [
    "df.Returns.cumsum()"
   ]
  },
  {
   "cell_type": "code",
   "execution_count": 18,
   "id": "5ac76ec2",
   "metadata": {},
   "outputs": [
    {
     "data": {
      "text/html": [
       "<div>\n",
       "<style scoped>\n",
       "    .dataframe tbody tr th:only-of-type {\n",
       "        vertical-align: middle;\n",
       "    }\n",
       "\n",
       "    .dataframe tbody tr th {\n",
       "        vertical-align: top;\n",
       "    }\n",
       "\n",
       "    .dataframe thead th {\n",
       "        text-align: right;\n",
       "    }\n",
       "</style>\n",
       "<table border=\"1\" class=\"dataframe\">\n",
       "  <thead>\n",
       "    <tr style=\"text-align: right;\">\n",
       "      <th></th>\n",
       "      <th>Close</th>\n",
       "      <th>Returns</th>\n",
       "      <th>Cumulative</th>\n",
       "    </tr>\n",
       "    <tr>\n",
       "      <th>Date</th>\n",
       "      <th></th>\n",
       "      <th></th>\n",
       "      <th></th>\n",
       "    </tr>\n",
       "  </thead>\n",
       "  <tbody>\n",
       "    <tr>\n",
       "      <th>2012-01-03</th>\n",
       "      <td>1.19910</td>\n",
       "      <td>0.001419</td>\n",
       "      <td>1.001420</td>\n",
       "    </tr>\n",
       "    <tr>\n",
       "      <th>2012-01-04</th>\n",
       "      <td>1.19820</td>\n",
       "      <td>-0.000751</td>\n",
       "      <td>1.000668</td>\n",
       "    </tr>\n",
       "    <tr>\n",
       "      <th>2012-01-05</th>\n",
       "      <td>1.20670</td>\n",
       "      <td>0.007069</td>\n",
       "      <td>1.007767</td>\n",
       "    </tr>\n",
       "    <tr>\n",
       "      <th>2012-01-06</th>\n",
       "      <td>1.21130</td>\n",
       "      <td>0.003805</td>\n",
       "      <td>1.011609</td>\n",
       "    </tr>\n",
       "    <tr>\n",
       "      <th>2012-01-09</th>\n",
       "      <td>1.21570</td>\n",
       "      <td>0.003626</td>\n",
       "      <td>1.015283</td>\n",
       "    </tr>\n",
       "    <tr>\n",
       "      <th>...</th>\n",
       "      <td>...</td>\n",
       "      <td>...</td>\n",
       "      <td>...</td>\n",
       "    </tr>\n",
       "    <tr>\n",
       "      <th>2021-12-27</th>\n",
       "      <td>1.18344</td>\n",
       "      <td>0.000034</td>\n",
       "      <td>0.988341</td>\n",
       "    </tr>\n",
       "    <tr>\n",
       "      <th>2021-12-28</th>\n",
       "      <td>1.18629</td>\n",
       "      <td>0.002405</td>\n",
       "      <td>0.990722</td>\n",
       "    </tr>\n",
       "    <tr>\n",
       "      <th>2021-12-29</th>\n",
       "      <td>1.18710</td>\n",
       "      <td>0.000683</td>\n",
       "      <td>0.991398</td>\n",
       "    </tr>\n",
       "    <tr>\n",
       "      <th>2021-12-30</th>\n",
       "      <td>1.18804</td>\n",
       "      <td>0.000792</td>\n",
       "      <td>0.992183</td>\n",
       "    </tr>\n",
       "    <tr>\n",
       "      <th>2021-12-31</th>\n",
       "      <td>1.19180</td>\n",
       "      <td>0.003160</td>\n",
       "      <td>0.995323</td>\n",
       "    </tr>\n",
       "  </tbody>\n",
       "</table>\n",
       "<p>2607 rows × 3 columns</p>\n",
       "</div>"
      ],
      "text/plain": [
       "              Close   Returns  Cumulative\n",
       "Date                                     \n",
       "2012-01-03  1.19910  0.001419    1.001420\n",
       "2012-01-04  1.19820 -0.000751    1.000668\n",
       "2012-01-05  1.20670  0.007069    1.007767\n",
       "2012-01-06  1.21130  0.003805    1.011609\n",
       "2012-01-09  1.21570  0.003626    1.015283\n",
       "...             ...       ...         ...\n",
       "2021-12-27  1.18344  0.000034    0.988341\n",
       "2021-12-28  1.18629  0.002405    0.990722\n",
       "2021-12-29  1.18710  0.000683    0.991398\n",
       "2021-12-30  1.18804  0.000792    0.992183\n",
       "2021-12-31  1.19180  0.003160    0.995323\n",
       "\n",
       "[2607 rows x 3 columns]"
      ]
     },
     "execution_count": 18,
     "metadata": {},
     "output_type": "execute_result"
    }
   ],
   "source": [
    "df[\"Cumulative\"] = df.Returns.cumsum().apply(np.exp)\n",
    "df"
   ]
  },
  {
   "cell_type": "code",
   "execution_count": 19,
   "id": "2214ba38",
   "metadata": {},
   "outputs": [
    {
     "data": {
      "image/png": "[encoded data removed]",
      "text/plain": [
       "<Figure size 864x576 with 1 Axes>"
      ]
     },
     "metadata": {},
     "output_type": "display_data"
    }
   ],
   "source": [
    "df.Cumulative.plot(figsize = (12,8), title =\"GBP/EUR Buy and Hold\", fontsize = 12)\n",
    "plt.show()"
   ]
  },
  {
   "cell_type": "markdown",
   "id": "eb95ae0f",
   "metadata": {},
   "source": [
    "# Performance"
   ]
  },
  {
   "cell_type": "code",
   "execution_count": 20,
   "id": "76d04989",
   "metadata": {},
   "outputs": [
    {
     "data": {
      "text/plain": [
       "0.9953232205544164"
      ]
     },
     "execution_count": 20,
     "metadata": {},
     "output_type": "execute_result"
    }
   ],
   "source": [
    "df.Cumulative.iloc[-1] # Cumulative absolute performance"
   ]
  },
  {
   "cell_type": "code",
   "execution_count": 21,
   "id": "cda26e2d",
   "metadata": {},
   "outputs": [
    {
     "data": {
      "text/plain": [
       "-0.004687749795877633"
      ]
     },
     "execution_count": 21,
     "metadata": {},
     "output_type": "execute_result"
    }
   ],
   "source": [
    "df.Returns.sum() # Return absolute performance"
   ]
  },
  {
   "cell_type": "code",
   "execution_count": 22,
   "id": "9aecb807",
   "metadata": {},
   "outputs": [
    {
     "data": {
      "text/html": [
       "<div>\n",
       "<style scoped>\n",
       "    .dataframe tbody tr th:only-of-type {\n",
       "        vertical-align: middle;\n",
       "    }\n",
       "\n",
       "    .dataframe tbody tr th {\n",
       "        vertical-align: top;\n",
       "    }\n",
       "\n",
       "    .dataframe thead th {\n",
       "        text-align: right;\n",
       "    }\n",
       "</style>\n",
       "<table border=\"1\" class=\"dataframe\">\n",
       "  <thead>\n",
       "    <tr style=\"text-align: right;\">\n",
       "      <th></th>\n",
       "      <th>Close</th>\n",
       "      <th>Returns</th>\n",
       "      <th>Cumulative</th>\n",
       "    </tr>\n",
       "  </thead>\n",
       "  <tbody>\n",
       "    <tr>\n",
       "      <th>count</th>\n",
       "      <td>2607.000000</td>\n",
       "      <td>2607.000000</td>\n",
       "      <td>2607.000000</td>\n",
       "    </tr>\n",
       "    <tr>\n",
       "      <th>mean</th>\n",
       "      <td>1.195343</td>\n",
       "      <td>-0.000002</td>\n",
       "      <td>0.998282</td>\n",
       "    </tr>\n",
       "    <tr>\n",
       "      <th>std</th>\n",
       "      <td>0.080011</td>\n",
       "      <td>0.004979</td>\n",
       "      <td>0.066821</td>\n",
       "    </tr>\n",
       "    <tr>\n",
       "      <th>min</th>\n",
       "      <td>1.060330</td>\n",
       "      <td>-0.053203</td>\n",
       "      <td>0.885527</td>\n",
       "    </tr>\n",
       "    <tr>\n",
       "      <th>25%</th>\n",
       "      <td>1.136825</td>\n",
       "      <td>-0.002603</td>\n",
       "      <td>0.949411</td>\n",
       "    </tr>\n",
       "    <tr>\n",
       "      <th>50%</th>\n",
       "      <td>1.172260</td>\n",
       "      <td>0.000036</td>\n",
       "      <td>0.979005</td>\n",
       "    </tr>\n",
       "    <tr>\n",
       "      <th>75%</th>\n",
       "      <td>1.239450</td>\n",
       "      <td>0.002718</td>\n",
       "      <td>1.035118</td>\n",
       "    </tr>\n",
       "    <tr>\n",
       "      <th>max</th>\n",
       "      <td>1.440300</td>\n",
       "      <td>0.022388</td>\n",
       "      <td>1.202856</td>\n",
       "    </tr>\n",
       "  </tbody>\n",
       "</table>\n",
       "</div>"
      ],
      "text/plain": [
       "             Close      Returns   Cumulative\n",
       "count  2607.000000  2607.000000  2607.000000\n",
       "mean      1.195343    -0.000002     0.998282\n",
       "std       0.080011     0.004979     0.066821\n",
       "min       1.060330    -0.053203     0.885527\n",
       "25%       1.136825    -0.002603     0.949411\n",
       "50%       1.172260     0.000036     0.979005\n",
       "75%       1.239450     0.002718     1.035118\n",
       "max       1.440300     0.022388     1.202856"
      ]
     },
     "execution_count": 22,
     "metadata": {},
     "output_type": "execute_result"
    }
   ],
   "source": [
    "df.describe()"
   ]
  },
  {
   "cell_type": "code",
   "execution_count": 23,
   "id": "e916cd85",
   "metadata": {},
   "outputs": [
    {
     "data": {
      "text/plain": [
       "-0.0004531311655394017"
      ]
     },
     "execution_count": 23,
     "metadata": {},
     "output_type": "execute_result"
    }
   ],
   "source": [
    "df.Returns.mean()*Year #mean return in a year"
   ]
  },
  {
   "cell_type": "code",
   "execution_count": 24,
   "id": "20be34c9",
   "metadata": {},
   "outputs": [
    {
     "data": {
      "text/plain": [
       "0.07904414288092416"
      ]
     },
     "execution_count": 24,
     "metadata": {},
     "output_type": "execute_result"
    }
   ],
   "source": [
    "df.Returns.std()*np.sqrt(Year) # Risk "
   ]
  },
  {
   "cell_type": "code",
   "execution_count": 25,
   "id": "64c630ac",
   "metadata": {},
   "outputs": [],
   "source": [
    "df[\"MaxCumulative\"]=df.Cumulative.cummax()"
   ]
  },
  {
   "cell_type": "code",
   "execution_count": 26,
   "id": "afcdefef",
   "metadata": {},
   "outputs": [
    {
     "data": {
      "text/html": [
       "<div>\n",
       "<style scoped>\n",
       "    .dataframe tbody tr th:only-of-type {\n",
       "        vertical-align: middle;\n",
       "    }\n",
       "\n",
       "    .dataframe tbody tr th {\n",
       "        vertical-align: top;\n",
       "    }\n",
       "\n",
       "    .dataframe thead th {\n",
       "        text-align: right;\n",
       "    }\n",
       "</style>\n",
       "<table border=\"1\" class=\"dataframe\">\n",
       "  <thead>\n",
       "    <tr style=\"text-align: right;\">\n",
       "      <th></th>\n",
       "      <th>Close</th>\n",
       "      <th>Returns</th>\n",
       "      <th>Cumulative</th>\n",
       "      <th>MaxCumulative</th>\n",
       "    </tr>\n",
       "    <tr>\n",
       "      <th>Date</th>\n",
       "      <th></th>\n",
       "      <th></th>\n",
       "      <th></th>\n",
       "      <th></th>\n",
       "    </tr>\n",
       "  </thead>\n",
       "  <tbody>\n",
       "    <tr>\n",
       "      <th>2012-01-03</th>\n",
       "      <td>1.19910</td>\n",
       "      <td>0.001419</td>\n",
       "      <td>1.001420</td>\n",
       "      <td>1.001420</td>\n",
       "    </tr>\n",
       "    <tr>\n",
       "      <th>2012-01-04</th>\n",
       "      <td>1.19820</td>\n",
       "      <td>-0.000751</td>\n",
       "      <td>1.000668</td>\n",
       "      <td>1.001420</td>\n",
       "    </tr>\n",
       "    <tr>\n",
       "      <th>2012-01-05</th>\n",
       "      <td>1.20670</td>\n",
       "      <td>0.007069</td>\n",
       "      <td>1.007767</td>\n",
       "      <td>1.007767</td>\n",
       "    </tr>\n",
       "    <tr>\n",
       "      <th>2012-01-06</th>\n",
       "      <td>1.21130</td>\n",
       "      <td>0.003805</td>\n",
       "      <td>1.011609</td>\n",
       "      <td>1.011609</td>\n",
       "    </tr>\n",
       "    <tr>\n",
       "      <th>2012-01-09</th>\n",
       "      <td>1.21570</td>\n",
       "      <td>0.003626</td>\n",
       "      <td>1.015283</td>\n",
       "      <td>1.015283</td>\n",
       "    </tr>\n",
       "    <tr>\n",
       "      <th>...</th>\n",
       "      <td>...</td>\n",
       "      <td>...</td>\n",
       "      <td>...</td>\n",
       "      <td>...</td>\n",
       "    </tr>\n",
       "    <tr>\n",
       "      <th>2021-12-27</th>\n",
       "      <td>1.18344</td>\n",
       "      <td>0.000034</td>\n",
       "      <td>0.988341</td>\n",
       "      <td>1.202856</td>\n",
       "    </tr>\n",
       "    <tr>\n",
       "      <th>2021-12-28</th>\n",
       "      <td>1.18629</td>\n",
       "      <td>0.002405</td>\n",
       "      <td>0.990722</td>\n",
       "      <td>1.202856</td>\n",
       "    </tr>\n",
       "    <tr>\n",
       "      <th>2021-12-29</th>\n",
       "      <td>1.18710</td>\n",
       "      <td>0.000683</td>\n",
       "      <td>0.991398</td>\n",
       "      <td>1.202856</td>\n",
       "    </tr>\n",
       "    <tr>\n",
       "      <th>2021-12-30</th>\n",
       "      <td>1.18804</td>\n",
       "      <td>0.000792</td>\n",
       "      <td>0.992183</td>\n",
       "      <td>1.202856</td>\n",
       "    </tr>\n",
       "    <tr>\n",
       "      <th>2021-12-31</th>\n",
       "      <td>1.19180</td>\n",
       "      <td>0.003160</td>\n",
       "      <td>0.995323</td>\n",
       "      <td>1.202856</td>\n",
       "    </tr>\n",
       "  </tbody>\n",
       "</table>\n",
       "<p>2607 rows × 4 columns</p>\n",
       "</div>"
      ],
      "text/plain": [
       "              Close   Returns  Cumulative  MaxCumulative\n",
       "Date                                                    \n",
       "2012-01-03  1.19910  0.001419    1.001420       1.001420\n",
       "2012-01-04  1.19820 -0.000751    1.000668       1.001420\n",
       "2012-01-05  1.20670  0.007069    1.007767       1.007767\n",
       "2012-01-06  1.21130  0.003805    1.011609       1.011609\n",
       "2012-01-09  1.21570  0.003626    1.015283       1.015283\n",
       "...             ...       ...         ...            ...\n",
       "2021-12-27  1.18344  0.000034    0.988341       1.202856\n",
       "2021-12-28  1.18629  0.002405    0.990722       1.202856\n",
       "2021-12-29  1.18710  0.000683    0.991398       1.202856\n",
       "2021-12-30  1.18804  0.000792    0.992183       1.202856\n",
       "2021-12-31  1.19180  0.003160    0.995323       1.202856\n",
       "\n",
       "[2607 rows x 4 columns]"
      ]
     },
     "execution_count": 26,
     "metadata": {},
     "output_type": "execute_result"
    }
   ],
   "source": [
    "df"
   ]
  },
  {
   "cell_type": "code",
   "execution_count": 27,
   "id": "d44a80d4",
   "metadata": {},
   "outputs": [
    {
     "data": {
      "text/plain": [
       "<AxesSubplot:title={'center':'GBP/EUR Max Drawdown'}, xlabel='Date'>"
      ]
     },
     "execution_count": 27,
     "metadata": {},
     "output_type": "execute_result"
    },
    {
     "data": {
      "image/png": "[encoded data removed]",
      "text/plain": [
       "<Figure size 864x576 with 1 Axes>"
      ]
     },
     "metadata": {},
     "output_type": "display_data"
    }
   ],
   "source": [
    "df[[\"Cumulative\",\"MaxCumulative\"]].dropna().plot(figsize = (12,8), title =\"GBP/EUR Max Drawdown\", fontsize = 12)"
   ]
  },
  {
   "cell_type": "code",
   "execution_count": 28,
   "id": "7b68a889",
   "metadata": {},
   "outputs": [],
   "source": [
    "drawdown = df[\"MaxCumulative\"]-df[\"Cumulative\"]"
   ]
  },
  {
   "cell_type": "code",
   "execution_count": 29,
   "id": "618e6d2d",
   "metadata": {},
   "outputs": [
    {
     "data": {
      "text/plain": [
       "0.31732918221370077"
      ]
     },
     "execution_count": 29,
     "metadata": {},
     "output_type": "execute_result"
    }
   ],
   "source": [
    "drawdown.max()"
   ]
  },
  {
   "cell_type": "code",
   "execution_count": 30,
   "id": "ffc6e21f",
   "metadata": {},
   "outputs": [
    {
     "data": {
      "text/plain": [
       "0.0"
      ]
     },
     "execution_count": 30,
     "metadata": {},
     "output_type": "execute_result"
    }
   ],
   "source": [
    "drawdown.min()"
   ]
  },
  {
   "cell_type": "code",
   "execution_count": 31,
   "id": "930059d2",
   "metadata": {},
   "outputs": [
    {
     "data": {
      "text/plain": [
       "Timestamp('2020-03-19 00:00:00')"
      ]
     },
     "execution_count": 31,
     "metadata": {},
     "output_type": "execute_result"
    }
   ],
   "source": [
    "drawdown.idxmax()"
   ]
  },
  {
   "cell_type": "code",
   "execution_count": 32,
   "id": "bcb027f8",
   "metadata": {},
   "outputs": [
    {
     "data": {
      "text/plain": [
       "Timestamp('2012-01-03 00:00:00')"
      ]
     },
     "execution_count": 32,
     "metadata": {},
     "output_type": "execute_result"
    }
   ],
   "source": [
    "drawdown.idxmin()"
   ]
  },
  {
   "cell_type": "code",
   "execution_count": null,
   "id": "066dc632",
   "metadata": {},
   "outputs": [],
   "source": []
  }
 ],
 "metadata": {
  "kernelspec": {
   "display_name": "Python 3 (ipykernel)",
   "language": "python",
   "name": "python3"
  },
  "language_info": {
   "codemirror_mode": {
    "name": "ipython",
    "version": 3
   },
   "file_extension": ".py",
   "mimetype": "text/x-python",
   "name": "python",
   "nbconvert_exporter": "python",
   "pygments_lexer": "ipython3",
   "version": "3.9.7"
  }
 },
 "nbformat": 4,
 "nbformat_minor": 5
}
