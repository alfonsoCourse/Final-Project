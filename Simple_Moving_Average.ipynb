{
 "cells": [
  {
   "cell_type": "markdown",
   "id": "5635e7bb",
   "metadata": {},
   "source": [
    "# Simple Moving Average Strategy"
   ]
  },
  {
   "cell_type": "code",
   "execution_count": null,
   "id": "1189b0e8",
   "metadata": {},
   "outputs": [],
   "source": [
    "import pandas as pd\n",
    "import numpy as np\n",
    "import matplotlib.pyplot as plt\n",
    "plt.style.use(\"seaborn\")\n",
    "Year = 252 # trading days on a year"
   ]
  },
  {
   "cell_type": "code",
   "execution_count": null,
   "id": "f6c16bf0",
   "metadata": {},
   "outputs": [],
   "source": [
    "data = pd.read_csv(\"GBPEUR=X.cvs\",parse_dates=[\"Date\"],index_col= \"Date\")\n",
    "data"
   ]
  },
  {
   "cell_type": "code",
   "execution_count": null,
   "id": "f8ab8b5a",
   "metadata": {},
   "outputs": [],
   "source": [
    "#SMA days\n",
    "short_sma = 75 \n",
    "large_SMA = 150"
   ]
  },
  {
   "cell_type": "code",
   "execution_count": null,
   "id": "331d37d0",
   "metadata": {},
   "outputs": [],
   "source": [
    "#https://pandas.pydata.org/docs/reference/api/pandas.DataFrame.rolling.html\n",
    "data.Close.rolling(short_sma).mean() # calculates the mean of the previous 75 items"
   ]
  },
  {
   "cell_type": "code",
   "execution_count": null,
   "id": "151ce73d",
   "metadata": {},
   "outputs": [],
   "source": [
    "data.Close.rolling(large_SMA).mean() # calculates the mean of the previous 150 items"
   ]
  },
  {
   "cell_type": "code",
   "execution_count": null,
   "id": "6d7c814b",
   "metadata": {},
   "outputs": [],
   "source": [
    "#insert previous values on the data variable\n",
    "data[\"Short_SMA\"] = data.Close.rolling(short_sma).mean()\n",
    "data[\"Large_SMA\"] = data.Close.rolling(large_SMA).mean()"
   ]
  },
  {
   "cell_type": "code",
   "execution_count": null,
   "id": "06ce61e1",
   "metadata": {},
   "outputs": [],
   "source": [
    "data.to_csv(\"Short_and_Large_SMA.csv\")"
   ]
  },
  {
   "cell_type": "code",
   "execution_count": null,
   "id": "a89eb7f1",
   "metadata": {},
   "outputs": [],
   "source": [
    "data.plot(figsize =(12,8),title = \"GBP/EUR --- Short SMA| Large SMA\")"
   ]
  },
  {
   "cell_type": "code",
   "execution_count": null,
   "id": "b59049a5",
   "metadata": {},
   "outputs": [],
   "source": [
    "data.dropna(inplace=True)\n",
    "data"
   ]
  },
  {
   "cell_type": "code",
   "execution_count": null,
   "id": "4c3fcbf4",
   "metadata": {},
   "outputs": [],
   "source": [
    "#2021 \n",
    "data.loc[\"2017\"].plot(figsize =(12,8),title = \"GBP/EUR --- Short SMA| Large SMA\", fontsize = 12)"
   ]
  },
  {
   "cell_type": "code",
   "execution_count": null,
   "id": "d3549f15",
   "metadata": {},
   "outputs": [],
   "source": [
    "# Create a column to save data when to enter or exit. \n",
    "data[\"Buy\"]= np.where(data[\"Short_SMA\"] > data[\"Large_SMA\"],1,-1)"
   ]
  },
  {
   "cell_type": "code",
   "execution_count": null,
   "id": "48776670",
   "metadata": {
    "scrolled": false
   },
   "outputs": [],
   "source": [
    "#All time graph\n",
    "data.plot(figsize =(12,8),secondary_y=\"Buy\",title = \"GBP/EUR --- Short SMA| Large SMA| Buy and Sell\")"
   ]
  },
  {
   "cell_type": "code",
   "execution_count": null,
   "id": "eee7bb16",
   "metadata": {},
   "outputs": [],
   "source": [
    "#2019 graph\n",
    "data.loc[\"2019\"].plot(figsize =(12,8),secondary_y=\"Buy\",title = \"GBP/EUR --- Short SMA| Large SMA\", fontsize = 12)"
   ]
  },
  {
   "cell_type": "markdown",
   "id": "c0edcf39",
   "metadata": {},
   "source": [
    "## Vectorised Strategy Testing"
   ]
  },
  {
   "cell_type": "code",
   "execution_count": null,
   "id": "04ca6604",
   "metadata": {},
   "outputs": [],
   "source": [
    "data[\"Returns\"] = np.log(data.Close.div(data.Close.shift(1))) #Buy and Hold Returns "
   ]
  },
  {
   "cell_type": "code",
   "execution_count": null,
   "id": "de0bd1c2",
   "metadata": {},
   "outputs": [],
   "source": [
    "data[\"SMA\"] = data.Buy.shift(1)*data[\"Returns\"] # SMA vs Returns, Vectorised Strategy"
   ]
  },
  {
   "cell_type": "code",
   "execution_count": null,
   "id": "3373161a",
   "metadata": {},
   "outputs": [],
   "source": [
    "data.dropna(inplace= True)"
   ]
  },
  {
   "cell_type": "code",
   "execution_count": null,
   "id": "02c7cacc",
   "metadata": {},
   "outputs": [],
   "source": [
    "data"
   ]
  },
  {
   "cell_type": "code",
   "execution_count": null,
   "id": "8c971250",
   "metadata": {},
   "outputs": [],
   "source": [
    "data[[\"Returns\",\"SMA\"]].mean()*Year #Annual return"
   ]
  },
  {
   "cell_type": "code",
   "execution_count": null,
   "id": "d9d159f9",
   "metadata": {},
   "outputs": [],
   "source": [
    "data[[\"Returns\",\"SMA\"]].sum() #absolute performance, buy and hold strategy looses money, SMA made + 0.37%"
   ]
  },
  {
   "cell_type": "code",
   "execution_count": null,
   "id": "6d754687",
   "metadata": {},
   "outputs": [],
   "source": [
    "data[[\"Returns\",\"SMA\"]].sum().apply(np.exp) #log absolute performance"
   ]
  },
  {
   "cell_type": "code",
   "execution_count": null,
   "id": "54e9e414",
   "metadata": {},
   "outputs": [],
   "source": [
    "data[[\"Returns\",\"SMA\"]].std()*np.sqrt(Year) # Annual Risk"
   ]
  },
  {
   "cell_type": "code",
   "execution_count": null,
   "id": "72f0adff",
   "metadata": {},
   "outputs": [],
   "source": [
    "# Add cummilative the data to know the results to plot into data \n",
    "data[\"CumulativeReturns\"]= data[\"Returns\"].cumsum().apply(np.exp)\n",
    "data[\"CumulativeSMA\"]= data[\"SMA\"].cumsum().apply(np.exp)"
   ]
  },
  {
   "cell_type": "code",
   "execution_count": null,
   "id": "d3efc6d8",
   "metadata": {},
   "outputs": [],
   "source": [
    "data[[\"CumulativeReturns\",\"CumulativeSMA\"]].plot(figsize =(12,8),title = \"GBP/EUR --- Cummulative\", fontsize = 12)"
   ]
  }
 ],
 "metadata": {
  "kernelspec": {
   "display_name": "Python 3 (ipykernel)",
   "language": "python",
   "name": "python3"
  },
  "language_info": {
   "codemirror_mode": {
    "name": "ipython",
    "version": 3
   },
   "file_extension": ".py",
   "mimetype": "text/x-python",
   "name": "python",
   "nbconvert_exporter": "python",
   "pygments_lexer": "ipython3",
   "version": "3.9.7"
  }
 },
 "nbformat": 4,
 "nbformat_minor": 5
}
